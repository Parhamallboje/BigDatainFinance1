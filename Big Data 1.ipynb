{
 "cells": [
  {
   "cell_type": "markdown",
   "metadata": {},
   "source": [
    "# Big Data in Finance: In-Class Presentation"
   ]
  },
  {
   "cell_type": "code",
   "execution_count": 7,
   "metadata": {},
   "outputs": [],
   "source": [
    "import time\n",
    "import pandas as pd\n",
    "import datetime as dt\n",
    "import helper_functs as hf\n",
    "import warnings\n",
    "import copy\n",
    "from sklearn import linear_model\n",
    "import numpy as np\n",
    "import matplotlib.pyplot as plt\n",
    "warnings.filterwarnings('ignore')\n",
    "plt.style.use('ggplot')"
   ]
  },
  {
   "cell_type": "markdown",
   "metadata": {},
   "source": [
    "# Loading Dataset"
   ]
  },
  {
   "cell_type": "code",
   "execution_count": 8,
   "metadata": {},
   "outputs": [],
   "source": [
    "tickers = pd.read_excel(\"data_sources/PERMNO_Tickers.xlsx\", index_col=\"Dates\")\n",
    "tickers.index = pd.to_datetime(tickers.index,  format='%Y%m%d').date\n",
    "tickers.name = \"TICKERS\"\n",
    "\n",
    "flows = pd.read_excel(\"data_sources/Flows_Clean.xlsx\", index_col=\"Dates\")\n",
    "flows.index = pd.to_datetime(flows.index, format='%Y%m%d').date\n",
    "flows.name = \"FLOWS\"\n",
    "\n",
    "returns = pd.read_excel(\"data_sources/Returns_Clean.xlsx\", index_col=\"Dates\")\n",
    "returns.index = pd.to_datetime(returns.index,format='%Y%m%d').date\n",
    "returns.name = \"RETURNS\""
   ]
  },
  {
   "cell_type": "code",
   "execution_count": 9,
   "metadata": {},
   "outputs": [
    {
     "data": {
      "text/html": [
       "<div>\n",
       "<style scoped>\n",
       "    .dataframe tbody tr th:only-of-type {\n",
       "        vertical-align: middle;\n",
       "    }\n",
       "\n",
       "    .dataframe tbody tr th {\n",
       "        vertical-align: top;\n",
       "    }\n",
       "\n",
       "    .dataframe thead th {\n",
       "        text-align: right;\n",
       "    }\n",
       "</style>\n",
       "<table border=\"1\" class=\"dataframe\">\n",
       "  <thead>\n",
       "    <tr style=\"text-align: right;\">\n",
       "      <th></th>\n",
       "      <th>PERMNO</th>\n",
       "      <th>TICKER</th>\n",
       "      <th>COMNAM</th>\n",
       "    </tr>\n",
       "  </thead>\n",
       "  <tbody>\n",
       "    <tr>\n",
       "      <th>1993-04-01</th>\n",
       "      <td>10145</td>\n",
       "      <td>ALD</td>\n",
       "      <td>ALLIED SIGNAL INC</td>\n",
       "    </tr>\n",
       "    <tr>\n",
       "      <th>1993-04-02</th>\n",
       "      <td>10145</td>\n",
       "      <td>ALD</td>\n",
       "      <td>ALLIED SIGNAL INC</td>\n",
       "    </tr>\n",
       "    <tr>\n",
       "      <th>1993-04-05</th>\n",
       "      <td>10145</td>\n",
       "      <td>ALD</td>\n",
       "      <td>ALLIED SIGNAL INC</td>\n",
       "    </tr>\n",
       "    <tr>\n",
       "      <th>1993-04-06</th>\n",
       "      <td>10145</td>\n",
       "      <td>ALD</td>\n",
       "      <td>ALLIED SIGNAL INC</td>\n",
       "    </tr>\n",
       "    <tr>\n",
       "      <th>1993-04-07</th>\n",
       "      <td>10145</td>\n",
       "      <td>ALD</td>\n",
       "      <td>ALLIED SIGNAL INC</td>\n",
       "    </tr>\n",
       "  </tbody>\n",
       "</table>\n",
       "</div>"
      ],
      "text/plain": [
       "            PERMNO TICKER             COMNAM\n",
       "1993-04-01   10145    ALD  ALLIED SIGNAL INC\n",
       "1993-04-02   10145    ALD  ALLIED SIGNAL INC\n",
       "1993-04-05   10145    ALD  ALLIED SIGNAL INC\n",
       "1993-04-06   10145    ALD  ALLIED SIGNAL INC\n",
       "1993-04-07   10145    ALD  ALLIED SIGNAL INC"
      ]
     },
     "execution_count": 9,
     "metadata": {},
     "output_type": "execute_result"
    }
   ],
   "source": [
    "tickers.head()"
   ]
  },
  {
   "cell_type": "code",
   "execution_count": 10,
   "metadata": {},
   "outputs": [
    {
     "data": {
      "text/html": [
       "<div>\n",
       "<style scoped>\n",
       "    .dataframe tbody tr th:only-of-type {\n",
       "        vertical-align: middle;\n",
       "    }\n",
       "\n",
       "    .dataframe tbody tr th {\n",
       "        vertical-align: top;\n",
       "    }\n",
       "\n",
       "    .dataframe thead th {\n",
       "        text-align: right;\n",
       "    }\n",
       "</style>\n",
       "<table border=\"1\" class=\"dataframe\">\n",
       "  <thead>\n",
       "    <tr style=\"text-align: right;\">\n",
       "      <th></th>\n",
       "      <th>55976</th>\n",
       "      <th>41072</th>\n",
       "      <th>27748</th>\n",
       "      <th>75259</th>\n",
       "      <th>40970</th>\n",
       "      <th>62519</th>\n",
       "      <th>21792</th>\n",
       "      <th>54084</th>\n",
       "      <th>55511</th>\n",
       "      <th>10302</th>\n",
       "      <th>...</th>\n",
       "      <th>63829</th>\n",
       "      <th>44986</th>\n",
       "      <th>11891</th>\n",
       "      <th>22752</th>\n",
       "      <th>27780</th>\n",
       "      <th>59379</th>\n",
       "      <th>75162</th>\n",
       "      <th>27705</th>\n",
       "      <th>54594</th>\n",
       "      <th>48725</th>\n",
       "    </tr>\n",
       "  </thead>\n",
       "  <tbody>\n",
       "    <tr>\n",
       "      <th>1993-04-01</th>\n",
       "      <td>-4.696503</td>\n",
       "      <td>-23.581608</td>\n",
       "      <td>0.904076</td>\n",
       "      <td>1.960112</td>\n",
       "      <td>0.687935</td>\n",
       "      <td>-1.791999</td>\n",
       "      <td>-1.465184</td>\n",
       "      <td>-0.124006</td>\n",
       "      <td>-1.681277</td>\n",
       "      <td>-3.439391</td>\n",
       "      <td>...</td>\n",
       "      <td>-3.762768</td>\n",
       "      <td>-1.733699</td>\n",
       "      <td>1.126364</td>\n",
       "      <td>-7.138398</td>\n",
       "      <td>3.073116</td>\n",
       "      <td>1.617669</td>\n",
       "      <td>2.448601</td>\n",
       "      <td>3.493056</td>\n",
       "      <td>0.902557</td>\n",
       "      <td>-0.535050</td>\n",
       "    </tr>\n",
       "    <tr>\n",
       "      <th>1993-04-02</th>\n",
       "      <td>-6.975709</td>\n",
       "      <td>-23.331232</td>\n",
       "      <td>0.394204</td>\n",
       "      <td>23.691814</td>\n",
       "      <td>-1.895012</td>\n",
       "      <td>0.551048</td>\n",
       "      <td>-1.488078</td>\n",
       "      <td>-0.170873</td>\n",
       "      <td>-1.588607</td>\n",
       "      <td>-4.584278</td>\n",
       "      <td>...</td>\n",
       "      <td>-0.419981</td>\n",
       "      <td>-2.612104</td>\n",
       "      <td>0.019097</td>\n",
       "      <td>-7.138398</td>\n",
       "      <td>2.033127</td>\n",
       "      <td>-2.418096</td>\n",
       "      <td>-1.523983</td>\n",
       "      <td>-9.594576</td>\n",
       "      <td>-10.226385</td>\n",
       "      <td>-0.274176</td>\n",
       "    </tr>\n",
       "    <tr>\n",
       "      <th>1993-04-05</th>\n",
       "      <td>-5.642141</td>\n",
       "      <td>-19.851716</td>\n",
       "      <td>-1.597132</td>\n",
       "      <td>8.839406</td>\n",
       "      <td>0.475161</td>\n",
       "      <td>8.010732</td>\n",
       "      <td>0.298018</td>\n",
       "      <td>0.281993</td>\n",
       "      <td>1.024464</td>\n",
       "      <td>7.026194</td>\n",
       "      <td>...</td>\n",
       "      <td>-0.474352</td>\n",
       "      <td>1.625321</td>\n",
       "      <td>1.149879</td>\n",
       "      <td>-6.056788</td>\n",
       "      <td>2.309195</td>\n",
       "      <td>4.493038</td>\n",
       "      <td>0.854999</td>\n",
       "      <td>2.615968</td>\n",
       "      <td>0.817579</td>\n",
       "      <td>1.478560</td>\n",
       "    </tr>\n",
       "    <tr>\n",
       "      <th>1993-04-06</th>\n",
       "      <td>-6.975709</td>\n",
       "      <td>23.276153</td>\n",
       "      <td>-1.129123</td>\n",
       "      <td>14.299749</td>\n",
       "      <td>1.426277</td>\n",
       "      <td>9.120669</td>\n",
       "      <td>-0.317257</td>\n",
       "      <td>-0.059609</td>\n",
       "      <td>5.883830</td>\n",
       "      <td>-0.598776</td>\n",
       "      <td>...</td>\n",
       "      <td>-1.294707</td>\n",
       "      <td>1.255646</td>\n",
       "      <td>0.803975</td>\n",
       "      <td>-2.927825</td>\n",
       "      <td>-5.331582</td>\n",
       "      <td>1.635919</td>\n",
       "      <td>-9.876419</td>\n",
       "      <td>-2.862576</td>\n",
       "      <td>-3.755393</td>\n",
       "      <td>1.674835</td>\n",
       "    </tr>\n",
       "    <tr>\n",
       "      <th>1993-04-07</th>\n",
       "      <td>-6.975709</td>\n",
       "      <td>19.204137</td>\n",
       "      <td>-1.221991</td>\n",
       "      <td>-5.184144</td>\n",
       "      <td>-1.638974</td>\n",
       "      <td>0.808131</td>\n",
       "      <td>-0.463507</td>\n",
       "      <td>0.610452</td>\n",
       "      <td>-1.209499</td>\n",
       "      <td>2.164043</td>\n",
       "      <td>...</td>\n",
       "      <td>0.000000</td>\n",
       "      <td>8.642735</td>\n",
       "      <td>1.060310</td>\n",
       "      <td>-2.069588</td>\n",
       "      <td>-1.625845</td>\n",
       "      <td>2.295149</td>\n",
       "      <td>0.570760</td>\n",
       "      <td>5.847429</td>\n",
       "      <td>-1.580178</td>\n",
       "      <td>1.814051</td>\n",
       "    </tr>\n",
       "  </tbody>\n",
       "</table>\n",
       "<p>5 rows × 100 columns</p>\n",
       "</div>"
      ],
      "text/plain": [
       "               55976      41072     27748      75259     40970     62519  \\\n",
       "1993-04-01 -4.696503 -23.581608  0.904076   1.960112  0.687935 -1.791999   \n",
       "1993-04-02 -6.975709 -23.331232  0.394204  23.691814 -1.895012  0.551048   \n",
       "1993-04-05 -5.642141 -19.851716 -1.597132   8.839406  0.475161  8.010732   \n",
       "1993-04-06 -6.975709  23.276153 -1.129123  14.299749  1.426277  9.120669   \n",
       "1993-04-07 -6.975709  19.204137 -1.221991  -5.184144 -1.638974  0.808131   \n",
       "\n",
       "               21792     54084     55511     10302  ...     63829     44986  \\\n",
       "1993-04-01 -1.465184 -0.124006 -1.681277 -3.439391  ... -3.762768 -1.733699   \n",
       "1993-04-02 -1.488078 -0.170873 -1.588607 -4.584278  ... -0.419981 -2.612104   \n",
       "1993-04-05  0.298018  0.281993  1.024464  7.026194  ... -0.474352  1.625321   \n",
       "1993-04-06 -0.317257 -0.059609  5.883830 -0.598776  ... -1.294707  1.255646   \n",
       "1993-04-07 -0.463507  0.610452 -1.209499  2.164043  ...  0.000000  8.642735   \n",
       "\n",
       "               11891     22752     27780     59379     75162     27705  \\\n",
       "1993-04-01  1.126364 -7.138398  3.073116  1.617669  2.448601  3.493056   \n",
       "1993-04-02  0.019097 -7.138398  2.033127 -2.418096 -1.523983 -9.594576   \n",
       "1993-04-05  1.149879 -6.056788  2.309195  4.493038  0.854999  2.615968   \n",
       "1993-04-06  0.803975 -2.927825 -5.331582  1.635919 -9.876419 -2.862576   \n",
       "1993-04-07  1.060310 -2.069588 -1.625845  2.295149  0.570760  5.847429   \n",
       "\n",
       "                54594     48725  \n",
       "1993-04-01   0.902557 -0.535050  \n",
       "1993-04-02 -10.226385 -0.274176  \n",
       "1993-04-05   0.817579  1.478560  \n",
       "1993-04-06  -3.755393  1.674835  \n",
       "1993-04-07  -1.580178  1.814051  \n",
       "\n",
       "[5 rows x 100 columns]"
      ]
     },
     "execution_count": 10,
     "metadata": {},
     "output_type": "execute_result"
    }
   ],
   "source": [
    "flows.head()"
   ]
  },
  {
   "cell_type": "markdown",
   "metadata": {},
   "source": [
    "# Warm-Up"
   ]
  },
  {
   "cell_type": "code",
   "execution_count": 11,
   "metadata": {},
   "outputs": [],
   "source": [
    "PERMNO = list(returns.columns) #PERMNO is the same everywhere, i.e. tickers, flows, returns\n",
    "WINDOW_SIZE = 255"
   ]
  },
  {
   "cell_type": "markdown",
   "metadata": {},
   "source": [
    "### Rolling MA Benchmark"
   ]
  },
  {
   "cell_type": "code",
   "execution_count": 12,
   "metadata": {},
   "outputs": [],
   "source": [
    "all_stocks =pd.DataFrame(index=returns.index)\n",
    "all_stocks[f\"SMA_{WINDOW_SIZE}_CUM_RMSE\"] = 0\n",
    "SMA_cumulative_RMSE_per_stock= {}\n",
    "for number in PERMNO:\n",
    "    stock = hf.create_stock_df(number,[flows, returns,tickers])\n",
    "    stock_lagged = hf.get_lags(stock, 3).dropna()\n",
    "    stock_X, stock_Y = hf.x_y_split(stock_lagged)\n",
    "    stock_SMA = copy.deepcopy(stock_Y)\n",
    "    stock_SMA.columns = [f'{number}_RETURNS' if x=='RETURNS' else x for x in stock_SMA.columns]\n",
    "    stock_SMA[f\"{number}_SMA_{WINDOW_SIZE}_PRED\"]=stock_SMA[f'{number}_RETURNS'].rolling(WINDOW_SIZE).mean().shift(1)\n",
    "    stock_SMA = stock_SMA.dropna()    \n",
    "    stock_SMA[f\"{number}_SMA_{WINDOW_SIZE}_SQD_FORECAST_ERROR\"]=(stock_SMA[f\"{number}_SMA_{WINDOW_SIZE}_PRED\"]-stock_SMA[f'{number}_RETURNS'])**2\n",
    "    stock_SMA[f\"{number}_SMA_{WINDOW_SIZE}_RMSE\"] = stock_SMA[f\"{number}_SMA_{WINDOW_SIZE}_SQD_FORECAST_ERROR\"].rolling(WINDOW_SIZE).mean()**0.5\n",
    "    all_stocks[f\"SMA_{WINDOW_SIZE}_CUM_RMSE\"] += stock_SMA[f\"{number}_SMA_{WINDOW_SIZE}_RMSE\"]\n",
    "    SMA_cumulative_RMSE_per_stock[number]= stock_SMA[f\"{number}_SMA_{WINDOW_SIZE}_RMSE\"].sum()\n",
    "    all_stocks[stock_SMA.columns]= stock_SMA"
   ]
  },
  {
   "cell_type": "code",
   "execution_count": 13,
   "metadata": {},
   "outputs": [
    {
     "data": {
      "text/plain": [
       "<AxesSubplot:>"
      ]
     },
     "execution_count": 13,
     "metadata": {},
     "output_type": "execute_result"
    },
    {
     "data": {
      "image/png": "[encoded data removed]",
      "text/plain": [
       "<Figure size 432x288 with 1 Axes>"
      ]
     },
     "metadata": {},
     "output_type": "display_data"
    }
   ],
   "source": [
    "all_stocks[f\"SMA_{WINDOW_SIZE}_CUM_RMSE\"].plot()"
   ]
  },
  {
   "cell_type": "markdown",
   "metadata": {},
   "source": [
    "### Rolling Regression"
   ]
  },
  {
   "cell_type": "code",
   "execution_count": 15,
   "metadata": {},
   "outputs": [],
   "source": [
    "all_stocks[f\"LM_{WINDOW_SIZE}_CUM_RMSE\"] = 0\n",
    "test_list = PERMNO[:2]\n",
    "start = time.time()\n",
    "for i,number in enumerate(test_list):\n",
    "    stock = hf.create_stock_df(number,[flows, returns, tickers])\n",
    "    x_small = hf.get_lags(stock, 3).dropna()\n",
    "    x_full = hf.extend_variables(number, x_small, returns, flows)\n",
    "    stock_LM = hf.Rolling_ML(WINDOW_SIZE, x_full, linear_model.LinearRegression(),progession_param=0.2)\n",
    "    stock_LM.columns = [f'{number}_{WINDOW_SIZE}_LM_{x}' for x in stock_LM.columns]\n",
    "    stock_LM[f\"{number}_{WINDOW_SIZE}_LM_SQD_FORECAST_ERROR\"] = (stock_LM[f\"{number}_{WINDOW_SIZE}_LM_PRED\"]-stock_LM[f'{number}_{WINDOW_SIZE}_LM_RETURNS'])**2\n",
    "    stock_LM[f\"{number}_{WINDOW_SIZE}_LM_RMSE\"] = stock_LM[f\"{number}_{WINDOW_SIZE}_LM_SQD_FORECAST_ERROR\"].rolling(WINDOW_SIZE).mean()**0.5\n",
    "    all_stocks[f\"LM_{WINDOW_SIZE}_CUM_RMSE\"] += stock_LM[f\"{number}_{WINDOW_SIZE}_LM_RMSE\"]\n",
    "    all_stocks[stock_LM.columns]= stock_LM\n",
    "    end = time.time()\n",
    "    if (i+1) % 10 == 0:\n",
    "        print(f\"{i+1}/{100}\",f\"{end-start} seconds have passed\")"
   ]
  },
  {
   "cell_type": "code",
   "execution_count": null,
   "metadata": {},
   "outputs": [],
   "source": [
    "all_stocks[f\"LM_{WINDOW_SIZE}_CUM_RMSE\"].plot()"
   ]
  },
  {
   "cell_type": "markdown",
   "metadata": {},
   "source": [
    "### Rolling LASSO"
   ]
  },
  {
   "cell_type": "code",
   "execution_count": null,
   "metadata": {},
   "outputs": [],
   "source": [
    "hyperparameters_LASSO = {'alpha': [1,0.1, 0.01]}"
   ]
  },
  {
   "cell_type": "code",
   "execution_count": null,
   "metadata": {},
   "outputs": [],
   "source": [
    "all_stocks[f\"LASSO_{WINDOW_SIZE}_CUM_RMSE\"] = 0\n",
    "start = time.time()\n",
    "PERM= PERMNO\n",
    "for i,number in enumerate(PERMNO):\n",
    "    stock = hf.create_stock_df(number,[flows, returns, tickers])\n",
    "    x_small = hf.get_lags(stock, 3).dropna()\n",
    "    x_full = hf.extend_variables(number, x_small, returns, flows)\n",
    "    stock_LASSO = hf.Rolling_ML(WINDOW_SIZE, x_full, linear_model.Lasso(alpha=0.01),progession_param=0.2)\n",
    "    stock_LASSO.columns = [f'{number}_{WINDOW_SIZE}_LASSO_{x}' for x in stock_LASSO.columns]\n",
    "    stock_LASSO[f\"{number}_{WINDOW_SIZE}_LASSO_SQD_FORECAST_ERROR\"] = (stock_LASSO[f\"{number}_{WINDOW_SIZE}_LASSO_PRED\"]-stock_LASSO[f'{number}_{WINDOW_SIZE}_LASSO_RETURNS'])**2\n",
    "    stock_LASSO[f\"{number}_{WINDOW_SIZE}_LASSO_RMSE\"] = stock_LASSO[f\"{number}_{WINDOW_SIZE}_LASSO_SQD_FORECAST_ERROR\"].rolling(WINDOW_SIZE)**0.5\n",
    "    all_stocks[f\"LASSO_{WINDOW_SIZE}_CUM_RMSE\"] += stock_LASSO[f\"{number}_{WINDOW_SIZE}_LASSO_RMSE\"]\n",
    "    all_stocks[stock_LASSO.columns]= stock_LASSO\n",
    "    end = time.time()\n",
    "    if (i+1) % 10 == 0:\n",
    "        print(f\"{i+1}/{100}\",f\"{end-start} seconds have passed\")"
   ]
  },
  {
   "cell_type": "code",
   "execution_count": null,
   "metadata": {},
   "outputs": [],
   "source": []
  },
  {
   "cell_type": "code",
   "execution_count": null,
   "metadata": {},
   "outputs": [],
   "source": [
    "all_stocks[f\"RF_{WINDOW_SIZE}_CUM_RMSE\"] = 0\n",
    "start = time.time()\n",
    "for i,number in enumerate(PERMNO):\n",
    "    stock = hf.create_stock_df(number,[flows, returns, tickers])\n",
    "    x_small = hf.get_lags(stock, 3).dropna()\n",
    "    x_full = hf.extend_variables(number, x_small, returns, flows)\n",
    "    stock_RF = hf.Rolling_ML(WINDOW_SIZE, x_full, ,progession_param=0.2)\n",
    "    stock_RF.columns = [f'{number}_{WINDOW_SIZE}_RF_{x}' for x in stock_RF.columns]\n",
    "    stock_RF[f\"{number}_{WINDOW_SIZE}_RF_SQD_FORECAST_ERROR\"] = (stock_RF[f\"{number}_{WINDOW_SIZE}_RF_PRED\"]-stock_RF[f'{number}_{WINDOW_SIZE}_RF_RETURNS'])**2\n",
    "    stock_RF[f\"{number}_{WINDOW_SIZE}_RF_RMSE\"] = stock_RF[f\"{number}_{WINDOW_SIZE}_RF_SQD_FORECAST_ERROR\"].rolling(WINDOW_SIZE).mean()**0.5\n",
    "    all_stocks[f\"RF_{WINDOW_SIZE}_CUM_RMSE\"] += stock_RF[f\"{number}_{WINDOW_SIZE}_RF_RMSE\"]\n",
    "    all_stocks[stock_RF.columns]= stock_RF\n",
    "    end = time.time()\n",
    "    if (i+1) % 5 == 0:\n",
    "        print(f\"{i+1}/{100}\",f\"{end-start} seconds have passed\")"
   ]
  },
  {
   "cell_type": "code",
   "execution_count": null,
   "metadata": {},
   "outputs": [],
   "source": []
  },
  {
   "cell_type": "code",
   "execution_count": null,
   "metadata": {},
   "outputs": [],
   "source": []
  },
  {
   "cell_type": "code",
   "execution_count": null,
   "metadata": {},
   "outputs": [],
   "source": []
  }
 ],
 "metadata": {
  "kernelspec": {
   "display_name": "Python 3",
   "language": "python",
   "name": "python3"
  },
  "language_info": {
   "codemirror_mode": {
    "name": "ipython",
    "version": 3
   },
   "file_extension": ".py",
   "mimetype": "text/x-python",
   "name": "python",
   "nbconvert_exporter": "python",
   "pygments_lexer": "ipython3",
   "version": "3.8.3"
  }
 },
 "nbformat": 4,
 "nbformat_minor": 4
}
