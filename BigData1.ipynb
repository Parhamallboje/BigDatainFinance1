{
 "cells": [
  {
   "cell_type": "markdown",
   "metadata": {},
   "source": [
    "# Big Data in Finance: In-Class Presentation"
   ]
  },
  {
   "cell_type": "code",
   "execution_count": 1,
   "metadata": {},
   "outputs": [],
   "source": [
    "import time\n",
    "import pandas as pd\n",
    "import datetime as dt\n",
    "import helper_functs as hf\n",
    "import warnings\n",
    "import copy\n",
    "import numpy as np\n",
    "import matplotlib.pyplot as plt\n",
    "from sklearn import linear_model\n",
    "from sklearn.ensemble import RandomForestRegressor\n",
    "from sklearn.model_selection import RandomizedSearchCV, train_test_split\n",
    "from sklearn.decomposition import PCA\n",
    "from sklearn.svm import SVC\n",
    "from sklearn.pipeline import make_pipeline\n",
    "from sklearn.preprocessing import StandardScaler\n",
    "warnings.filterwarnings('ignore')\n",
    "plt.style.use('ggplot')"
   ]
  },
  {
   "cell_type": "markdown",
   "metadata": {},
   "source": [
    "# Loading Dataset"
   ]
  },
  {
   "cell_type": "code",
   "execution_count": 2,
   "metadata": {},
   "outputs": [
    {
     "data": {
      "text/html": [
       "<div>\n",
       "<style scoped>\n",
       "    .dataframe tbody tr th:only-of-type {\n",
       "        vertical-align: middle;\n",
       "    }\n",
       "\n",
       "    .dataframe tbody tr th {\n",
       "        vertical-align: top;\n",
       "    }\n",
       "\n",
       "    .dataframe thead th {\n",
       "        text-align: right;\n",
       "    }\n",
       "</style>\n",
       "<table border=\"1\" class=\"dataframe\">\n",
       "  <thead>\n",
       "    <tr style=\"text-align: right;\">\n",
       "      <th></th>\n",
       "      <th>55976</th>\n",
       "      <th>41072</th>\n",
       "      <th>27748</th>\n",
       "      <th>75259</th>\n",
       "      <th>40970</th>\n",
       "      <th>62519</th>\n",
       "      <th>21792</th>\n",
       "      <th>54084</th>\n",
       "      <th>55511</th>\n",
       "      <th>10302</th>\n",
       "      <th>...</th>\n",
       "      <th>63829</th>\n",
       "      <th>44986</th>\n",
       "      <th>11891</th>\n",
       "      <th>22752</th>\n",
       "      <th>27780</th>\n",
       "      <th>59379</th>\n",
       "      <th>75162</th>\n",
       "      <th>27705</th>\n",
       "      <th>54594</th>\n",
       "      <th>48725</th>\n",
       "    </tr>\n",
       "  </thead>\n",
       "  <tbody>\n",
       "    <tr>\n",
       "      <th>1993-04-01</th>\n",
       "      <td>-0.019685</td>\n",
       "      <td>0.019391</td>\n",
       "      <td>-0.007282</td>\n",
       "      <td>-0.003891</td>\n",
       "      <td>0.083333</td>\n",
       "      <td>0.027027</td>\n",
       "      <td>0.005348</td>\n",
       "      <td>0.020000</td>\n",
       "      <td>-0.010417</td>\n",
       "      <td>-0.025000</td>\n",
       "      <td>...</td>\n",
       "      <td>0.108108</td>\n",
       "      <td>-0.019048</td>\n",
       "      <td>-0.017857</td>\n",
       "      <td>-0.028269</td>\n",
       "      <td>0.000000</td>\n",
       "      <td>0.006173</td>\n",
       "      <td>-0.023669</td>\n",
       "      <td>0.000000</td>\n",
       "      <td>0.031915</td>\n",
       "      <td>0.014433</td>\n",
       "    </tr>\n",
       "    <tr>\n",
       "      <th>1993-04-02</th>\n",
       "      <td>-0.020080</td>\n",
       "      <td>0.002717</td>\n",
       "      <td>-0.002445</td>\n",
       "      <td>0.058594</td>\n",
       "      <td>-0.038462</td>\n",
       "      <td>-0.026316</td>\n",
       "      <td>-0.007979</td>\n",
       "      <td>-0.019608</td>\n",
       "      <td>-0.021053</td>\n",
       "      <td>-0.025641</td>\n",
       "      <td>...</td>\n",
       "      <td>0.000000</td>\n",
       "      <td>-0.016181</td>\n",
       "      <td>-0.031818</td>\n",
       "      <td>-0.010909</td>\n",
       "      <td>0.000000</td>\n",
       "      <td>-0.020450</td>\n",
       "      <td>0.012121</td>\n",
       "      <td>-0.032609</td>\n",
       "      <td>0.020619</td>\n",
       "      <td>-0.010163</td>\n",
       "    </tr>\n",
       "    <tr>\n",
       "      <th>1993-04-05</th>\n",
       "      <td>-0.024590</td>\n",
       "      <td>-0.006775</td>\n",
       "      <td>-0.002451</td>\n",
       "      <td>0.022140</td>\n",
       "      <td>-0.040000</td>\n",
       "      <td>0.027027</td>\n",
       "      <td>0.005362</td>\n",
       "      <td>0.000000</td>\n",
       "      <td>0.021505</td>\n",
       "      <td>0.026316</td>\n",
       "      <td>...</td>\n",
       "      <td>-0.048780</td>\n",
       "      <td>-0.003289</td>\n",
       "      <td>0.032864</td>\n",
       "      <td>0.003676</td>\n",
       "      <td>-0.005102</td>\n",
       "      <td>0.018789</td>\n",
       "      <td>-0.005988</td>\n",
       "      <td>-0.011236</td>\n",
       "      <td>-0.010101</td>\n",
       "      <td>0.026694</td>\n",
       "    </tr>\n",
       "    <tr>\n",
       "      <th>1993-04-06</th>\n",
       "      <td>-0.067227</td>\n",
       "      <td>0.009550</td>\n",
       "      <td>-0.007371</td>\n",
       "      <td>0.025271</td>\n",
       "      <td>0.041667</td>\n",
       "      <td>0.052632</td>\n",
       "      <td>0.005333</td>\n",
       "      <td>0.000000</td>\n",
       "      <td>0.000000</td>\n",
       "      <td>0.038462</td>\n",
       "      <td>...</td>\n",
       "      <td>-0.025641</td>\n",
       "      <td>-0.023102</td>\n",
       "      <td>-0.009091</td>\n",
       "      <td>-0.007326</td>\n",
       "      <td>0.005128</td>\n",
       "      <td>0.002049</td>\n",
       "      <td>-0.024096</td>\n",
       "      <td>-0.011364</td>\n",
       "      <td>-0.010204</td>\n",
       "      <td>0.014000</td>\n",
       "    </tr>\n",
       "    <tr>\n",
       "      <th>1993-04-07</th>\n",
       "      <td>0.000000</td>\n",
       "      <td>0.005405</td>\n",
       "      <td>0.000000</td>\n",
       "      <td>0.021127</td>\n",
       "      <td>0.040000</td>\n",
       "      <td>-0.050000</td>\n",
       "      <td>0.002653</td>\n",
       "      <td>0.000000</td>\n",
       "      <td>0.010526</td>\n",
       "      <td>0.012346</td>\n",
       "      <td>...</td>\n",
       "      <td>-0.013158</td>\n",
       "      <td>0.016892</td>\n",
       "      <td>0.018349</td>\n",
       "      <td>0.000000</td>\n",
       "      <td>0.010204</td>\n",
       "      <td>0.014315</td>\n",
       "      <td>0.000000</td>\n",
       "      <td>0.011494</td>\n",
       "      <td>0.000000</td>\n",
       "      <td>0.005917</td>\n",
       "    </tr>\n",
       "  </tbody>\n",
       "</table>\n",
       "<p>5 rows × 100 columns</p>\n",
       "</div>"
      ],
      "text/plain": [
       "               55976     41072     27748     75259     40970     62519  \\\n",
       "1993-04-01 -0.019685  0.019391 -0.007282 -0.003891  0.083333  0.027027   \n",
       "1993-04-02 -0.020080  0.002717 -0.002445  0.058594 -0.038462 -0.026316   \n",
       "1993-04-05 -0.024590 -0.006775 -0.002451  0.022140 -0.040000  0.027027   \n",
       "1993-04-06 -0.067227  0.009550 -0.007371  0.025271  0.041667  0.052632   \n",
       "1993-04-07  0.000000  0.005405  0.000000  0.021127  0.040000 -0.050000   \n",
       "\n",
       "               21792     54084     55511     10302  ...     63829     44986  \\\n",
       "1993-04-01  0.005348  0.020000 -0.010417 -0.025000  ...  0.108108 -0.019048   \n",
       "1993-04-02 -0.007979 -0.019608 -0.021053 -0.025641  ...  0.000000 -0.016181   \n",
       "1993-04-05  0.005362  0.000000  0.021505  0.026316  ... -0.048780 -0.003289   \n",
       "1993-04-06  0.005333  0.000000  0.000000  0.038462  ... -0.025641 -0.023102   \n",
       "1993-04-07  0.002653  0.000000  0.010526  0.012346  ... -0.013158  0.016892   \n",
       "\n",
       "               11891     22752     27780     59379     75162     27705  \\\n",
       "1993-04-01 -0.017857 -0.028269  0.000000  0.006173 -0.023669  0.000000   \n",
       "1993-04-02 -0.031818 -0.010909  0.000000 -0.020450  0.012121 -0.032609   \n",
       "1993-04-05  0.032864  0.003676 -0.005102  0.018789 -0.005988 -0.011236   \n",
       "1993-04-06 -0.009091 -0.007326  0.005128  0.002049 -0.024096 -0.011364   \n",
       "1993-04-07  0.018349  0.000000  0.010204  0.014315  0.000000  0.011494   \n",
       "\n",
       "               54594     48725  \n",
       "1993-04-01  0.031915  0.014433  \n",
       "1993-04-02  0.020619 -0.010163  \n",
       "1993-04-05 -0.010101  0.026694  \n",
       "1993-04-06 -0.010204  0.014000  \n",
       "1993-04-07  0.000000  0.005917  \n",
       "\n",
       "[5 rows x 100 columns]"
      ]
     },
     "execution_count": 2,
     "metadata": {},
     "output_type": "execute_result"
    }
   ],
   "source": [
    "tickers = pd.read_excel(\"data_sources/PERMNO_Tickers.xlsx\", index_col=\"Dates\")\n",
    "tickers.index = pd.to_datetime(tickers.index,  format='%Y%m%d').date\n",
    "tickers.name = \"TICKERS\"\n",
    "\n",
    "flows = pd.read_excel(\"data_sources/Flows_Clean.xlsx\", index_col=\"Dates\")\n",
    "flows.index = pd.to_datetime(flows.index, format='%Y%m%d').date\n",
    "flows.name = \"FLOWS\"\n",
    "\n",
    "returns = pd.read_excel(\"data_sources/Returns_Clean.xlsx\", index_col=\"Dates\")\n",
    "returns.index = pd.to_datetime(returns.index,format='%Y%m%d').date\n",
    "returns.name = \"RETURNS\"\n",
    "returns.head()"
   ]
  },
  {
   "cell_type": "markdown",
   "metadata": {},
   "source": [
    "# Warm-Up"
   ]
  },
  {
   "cell_type": "code",
   "execution_count": 3,
   "metadata": {},
   "outputs": [],
   "source": [
    "all_stocks =pd.DataFrame(index=returns.index)"
   ]
  },
  {
   "cell_type": "code",
   "execution_count": 4,
   "metadata": {},
   "outputs": [],
   "source": [
    "PERMNO = list(returns.columns) #PERMNO is the same everywhere, i.e. tickers, flows, returns\n",
    "WINDOW_SIZE = 5"
   ]
  },
  {
   "cell_type": "markdown",
   "metadata": {},
   "source": [
    "### Rolling MA Benchmark"
   ]
  },
  {
   "cell_type": "code",
   "execution_count": null,
   "metadata": {},
   "outputs": [],
   "source": [
    "all_stocks[f\"SMA_{WINDOW_SIZE}_CUM_RMSE\"] = 0\n",
    "SMA_cumulative_RMSE_per_stock= {}\n",
    "for number in PERMNO:\n",
    "    stock = hf.create_stock_df(number,[flows, returns,tickers])\n",
    "    stock_lagged = hf.get_lags(stock, 3).dropna()\n",
    "    stock_X, stock_Y = hf.x_y_split(stock_lagged)\n",
    "    stock_SMA = copy.deepcopy(stock_Y)\n",
    "    stock_SMA.columns = [f'{number}_RETURNS' if x=='RETURNS' else x for x in stock_SMA.columns]\n",
    "    stock_SMA[f\"{number}_SMA_{WINDOW_SIZE}_PRED\"]=stock_SMA[f'{number}_RETURNS'].rolling(WINDOW_SIZE).mean().shift(1)\n",
    "    stock_SMA = stock_SMA.dropna()    \n",
    "    stock_SMA[f\"{number}_SMA_{WINDOW_SIZE}_SQD_FORECAST_ERROR\"]=(stock_SMA[f\"{number}_SMA_{WINDOW_SIZE}_PRED\"]-stock_SMA[f'{number}_RETURNS'])**2\n",
    "    stock_SMA[f\"{number}_SMA_{WINDOW_SIZE}_RMSE\"] = stock_SMA[f\"{number}_SMA_{WINDOW_SIZE}_SQD_FORECAST_ERROR\"].rolling(WINDOW_SIZE).mean()**0.5\n",
    "    all_stocks[f\"SMA_{WINDOW_SIZE}_CUM_RMSE\"] += stock_SMA[f\"{number}_SMA_{WINDOW_SIZE}_RMSE\"]\n",
    "    SMA_cumulative_RMSE_per_stock[number]= stock_SMA[f\"{number}_SMA_{WINDOW_SIZE}_RMSE\"].sum()\n",
    "    all_stocks[stock_SMA.columns]= stock_SMA"
   ]
  },
  {
   "cell_type": "code",
   "execution_count": null,
   "metadata": {},
   "outputs": [],
   "source": [
    "all_stocks[f\"SMA_5_CUM_RMSE\"]"
   ]
  },
  {
   "cell_type": "code",
   "execution_count": null,
   "metadata": {},
   "outputs": [],
   "source": [
    "plt.plot(all_stocks.index, all_stocks[\"SMA_5_CUM_RMSE\"], label=\"SMA_5_CUM_RMSE\")\n",
    "plt.plot(all_stocks.index, all_stocks[f\"SMA_25_CUM_RMSE\"], label=\"SMA_25_CUM_RMSE\")\n",
    "plt.plot(all_stocks.index, all_stocks[f\"SMA_250_CUM_RMSE\"], label=\"SMA_250_CUM_RMSE\")\n",
    "plt.legend(loc=\"upper left\")\n",
    "plt.show()"
   ]
  },
  {
   "cell_type": "markdown",
   "metadata": {},
   "source": [
    "### Rolling Regression"
   ]
  },
  {
   "cell_type": "code",
   "execution_count": null,
   "metadata": {},
   "outputs": [],
   "source": [
    "all_stocks[f\"LM_{WINDOW_SIZE}_CUM_RMSE\"] = 0\n",
    "start = time.time()\n",
    "for i,number in enumerate(PERMNO):\n",
    "    stock = hf.create_stock_df(number,[flows, returns, tickers])\n",
    "    x_small = hf.get_lags(stock, 3).dropna()\n",
    "    x_full = hf.extend_variables(number, x_small, returns, flows)\n",
    "    x_fully = hf.add _features(x_full)\n",
    "    stock_LM = hf.Rolling_ML(WINDOW_SIZE, x_full, linear_model.LinearRegression())\n",
    "    stock_LM.columns = [f'{number}_{WINDOW_SIZE}_LM_{x}' for x in stock_LM.columns]\n",
    "    stock_LM[f\"{number}_{WINDOW_SIZE}_LM_SQD_FORECAST_ERROR\"] = (stock_LM[f\"{number}_{WINDOW_SIZE}_LM_PRED\"]-stock_LM[f'{number}_{WINDOW_SIZE}_LM_RETURNS'])**2\n",
    "    stock_LM[f\"{number}_{WINDOW_SIZE}_LM_RMSE\"] = stock_LM[f\"{number}_{WINDOW_SIZE}_LM_SQD_FORECAST_ERROR\"].rolling(WINDOW_SIZE).mean()**0.5\n",
    "    all_stocks[f\"LM_{WINDOW_SIZE}_CUM_RMSE\"] += stock_LM[f\"{number}_{WINDOW_SIZE}_LM_RMSE\"]\n",
    "    all_stocks[stock_LM.columns]= stock_LM\n",
    "    end = time.time()\n",
    "    if (i+1) % 10 == 0:\n",
    "        print(f\"{i+1}/{100}\",f\"{end-start} seconds have passed\")"
   ]
  },
  {
   "cell_type": "code",
   "execution_count": null,
   "metadata": {},
   "outputs": [],
   "source": [
    "all_stocks.columns"
   ]
  },
  {
   "cell_type": "code",
   "execution_count": null,
   "metadata": {},
   "outputs": [],
   "source": [
    "plt.plot(all_stocks.index, all_stocks[\"LM_5_CUM_RMSE\"]-all_stocks[\"SMA_5_CUM_RMSE\"], label=\"LM-SMA_5_CUM_RMSE\")\n",
    "plt.plot(all_stocks.index, all_stocks[\"LM_25_CUM_RMSE\"]-all_stocks[\"SMA_25_CUM_RMSE\"], label=\"LM-SMA_25_CUM_RMSE\")\n",
    "plt.plot(all_stocks.index, all_stocks[\"LM_250_CUM_RMSE\"]-all_stocks[\"SMA_250_CUM_RMSE\"], label=\"LM-SMA_250_CUM_RMSE\")\n",
    "plt.legend(loc=\"upper left\")\n",
    "plt.show()"
   ]
  },
  {
   "cell_type": "markdown",
   "metadata": {},
   "source": [
    "### Rolling LASSO"
   ]
  },
  {
   "cell_type": "code",
   "execution_count": null,
   "metadata": {},
   "outputs": [],
   "source": [
    "hyperparameters_LASSO = {'alpha': [1,0.1, 0.01]}"
   ]
  },
  {
   "cell_type": "code",
   "execution_count": null,
   "metadata": {},
   "outputs": [],
   "source": [
    "all_stocks[f\"LASSO_{WINDOW_SIZE}_CUM_RMSE\"] = 0\n",
    "start = time.time()\n",
    "\n",
    "for i,number in enumerate(PERMNO):\n",
    "    stock = hf.create_stock_df(number,[flows, returns, tickers])\n",
    "    x_small = hf.get_lags(stock, 3).dropna()\n",
    "    x_full = hf.extend_variables(number, x_small, returns, flows, pca_n_components=10)\n",
    "    stock_LASSO = hf.Rolling_ML(WINDOW_SIZE, x_full, linear_model.Lasso(alpha=0.5), progession_param=0.3)\n",
    "    stock_LASSO.columns = [f'{number}_{WINDOW_SIZE}_LASSO_{x}' for x in stock_LASSO.columns]\n",
    "    stock_LASSO[f\"{number}_{WINDOW_SIZE}_LASSO_SQD_FORECAST_ERROR\"] = (stock_LASSO[f\"{number}_{WINDOW_SIZE}_LASSO_PRED\"]-stock_LASSO[f'{number}_{WINDOW_SIZE}_LASSO_RETURNS'])**2\n",
    "    stock_LASSO[f\"{number}_{WINDOW_SIZE}_LASSO_RMSE\"] = stock_LASSO[f\"{number}_{WINDOW_SIZE}_LASSO_SQD_FORECAST_ERROR\"].rolling(WINDOW_SIZE).mean()**0.5\n",
    "    all_stocks[f\"LASSO_{WINDOW_SIZE}_CUM_RMSE\"] += stock_LASSO[f\"{number}_{WINDOW_SIZE}_LASSO_RMSE\"]\n",
    "    all_stocks[stock_LASSO.columns]= stock_LASSO\n",
    "    end = time.time()\n",
    "    if (i+1) % 10 == 0:\n",
    "        print(f\"{i+1}/{100}\",f\"{end-start} seconds have passed\")"
   ]
  },
  {
   "cell_type": "code",
   "execution_count": null,
   "metadata": {},
   "outputs": [],
   "source": [
    "all_stocks.columns"
   ]
  },
  {
   "cell_type": "code",
   "execution_count": null,
   "metadata": {},
   "outputs": [],
   "source": [
    "plt.plot(all_stocks.index, all_stocks[\"LASSO_5_CUM_RMSE\"]-all_stocks[\"SMA_5_CUM_RMSE\"], label=\"LASSO-SMA_5_CUM_RMSE\")\n",
    "plt.plot(all_stocks.index, all_stocks[f\"LASSO_25_CUM_RMSE\"]-all_stocks[\"SMA_25_CUM_RMSE\"], label=\"LASSO-SMA_25_CUM_RMSE\")\n",
    "plt.plot(all_stocks.index, all_stocks[f\"LASSO_250_CUM_RMSE\"]-all_stocks[\"SMA_250_CUM_RMSE\"], label=\"LASSO-SMA_250_CUM_RMSE\")\n",
    "plt.legend(loc=\"upper left\")\n",
    "plt.show()"
   ]
  },
  {
   "cell_type": "code",
   "execution_count": null,
   "metadata": {},
   "outputs": [],
   "source": [
    "hyperparameters_RF = {'n_estimators': [int(x) for x in np.linspace(start = 200, stop = 2000, num = 10)],\n",
    "               'max_features': ['auto', 'sqrt'],\n",
    "               'max_depth': [int(x) for x in np.linspace(10, 110, num = 11)],\n",
    "               'min_samples_split':  [2, 5, 10],\n",
    "               'min_samples_leaf': [1, 2, 4],\n",
    "               'bootstrap': [True, False]}"
   ]
  },
  {
   "cell_type": "markdown",
   "metadata": {},
   "source": [
    "### Rolling RandomForest"
   ]
  },
  {
   "cell_type": "code",
   "execution_count": null,
   "metadata": {
    "scrolled": true
   },
   "outputs": [],
   "source": [
    "all_stocks[f\"RF_{WINDOW_SIZE}_CUM_RMSE\"] = 0\n",
    "start = time.time()\n",
    "for i,number in enumerate(PERMNO):\n",
    "    stock = hf.create_stock_df(number,[flows, returns, tickers])\n",
    "    x_small = hf.get_lags(stock, 3).dropna()\n",
    "    x_full = hf.extend_variables(number, x_small, returns, flows)\n",
    "    x_fully = hf.add_features(x_full)\n",
    "    x_fully['RETURNS'] = hf.make_market_state(x_fully['RETURNS'])\n",
    "    stock_RF = hf.Normal_ML(WINDOW_SIZE, x_fully,make_pipeline(StandardScaler(), SVC(gamma='auto')))\n",
    "    stock_RF.columns = [f'{number}_{WINDOW_SIZE}_RF_{x}' for x in stock_RF.columns]\n",
    "    stock_RF[f\"{number}_{WINDOW_SIZE}_RF_SQD_FORECAST_ERROR\"] = (stock_RF[f\"{number}_{WINDOW_SIZE}_RF_PRED\"]-stock_RF[f'{number}_{WINDOW_SIZE}_RF_RETURNS'])**2\n",
    "    stock_RF[f\"{number}_{WINDOW_SIZE}_RF_RMSE\"] = stock_RF[f\"{number}_{WINDOW_SIZE}_RF_SQD_FORECAST_ERROR\"].rolling(WINDOW_SIZE).mean()**0.5\n",
    "    all_stocks[f\"RF_{WINDOW_SIZE}_CUM_RMSE\"] += stock_RF[f\"{number}_{WINDOW_SIZE}_RF_RMSE\"]\n",
    "    all_stocks[stock_RF.columns]= stock_RF\n",
    "    end = time.time()\n",
    "    if (i+1) % 5 == 0:\n",
    "        print(f\"{i+1}/{100}\",f\"{end-start} seconds have passed\")"
   ]
  },
  {
   "cell_type": "code",
   "execution_count": null,
   "metadata": {},
   "outputs": [],
   "source": [
    "plt.plot(all_stocks.index, all_stocks[\"RF_5_CUM_RMSE\"]-all_stocks[\"SMA_5_CUM_RMSE\"], label=\"RF-SMA_5_CUM_RMSE\")\n",
    "plt.plot(all_stocks.index, all_stocks[\"RF_5_CUM_RMSE\"]-all_stocks[\"SMA_25_CUM_RMSE\"], label=\"RF-SMA_25_CUM_RMSE\")\n",
    "plt.plot(all_stocks.index, all_stocks[\"RF_5_CUM_RMSE\"]-all_stocks[\"SMA_250_CUM_RMSE\"], label=\"RF-SMA_25_CUM_RMSE\")\n",
    "plt.legend(loc=\"upper left\")\n",
    "plt.xticks(rotation=45)\n",
    "plt.show()"
   ]
  },
  {
   "cell_type": "code",
   "execution_count": null,
   "metadata": {},
   "outputs": [],
   "source": [
    "all_stocks[f\"RF_{WINDOW_SIZE}_CUM_RMSE\"].plot()"
   ]
  },
  {
   "cell_type": "code",
   "execution_count": null,
   "metadata": {},
   "outputs": [],
   "source": []
  },
  {
   "cell_type": "code",
   "execution_count": 35,
   "metadata": {},
   "outputs": [],
   "source": [
    "clf = make_pipeline(StandardScaler(), SVC(gamma='auto'))"
   ]
  },
  {
   "cell_type": "code",
   "execution_count": 95,
   "metadata": {},
   "outputs": [],
   "source": [
    "stock = hf.create_stock_df(55976,[flows, returns, tickers])\n",
    "x_small = hf.get_lags(stock, 3).dropna()\n",
    "x_full = hf.extend_variables(55976, x_small, returns, flows)\n",
    "x_fully = hf.add_features(x_full)\n",
    "x_fully['RETURNS'] = hf.make_market_state(x_fully['RETURNS'], tau=0.005)"
   ]
  },
  {
   "cell_type": "code",
   "execution_count": 96,
   "metadata": {},
   "outputs": [],
   "source": [
    "stock_RF= hf.Normal_ML(WINDOW_SIZE, x_fully,clf)\n",
    "stock_RF.columns = [f'{55976}_{WINDOW_SIZE}_RF_{x}' for x in stock_RF.columns]\n",
    "stock_RF[f\"{55976}_{WINDOW_SIZE}_RF_SQD_FORECAST_ERROR\"] = (stock_RF[f\"{55976}_{WINDOW_SIZE}_RF_PRED\"]-stock_RF[f'{55976}_{WINDOW_SIZE}_RF_RETURNS'])**2\n",
    "stock_RF[f\"{55976}_{WINDOW_SIZE}_RF_RMSE\"] = stock_RF[f\"{55976}_{WINDOW_SIZE}_RF_SQD_FORECAST_ERROR\"].rolling(WINDOW_SIZE).mean()**0.5\n",
    "all_stocks[stock_RF.columns]= stock_RF"
   ]
  },
  {
   "cell_type": "code",
   "execution_count": 97,
   "metadata": {},
   "outputs": [
    {
     "data": {
      "image/png": "[encoded data removed]",
      "text/plain": [
       "<Figure size 432x288 with 1 Axes>"
      ]
     },
     "metadata": {},
     "output_type": "display_data"
    }
   ],
   "source": [
    "plt.plot(stock_RF.index, stock_RF[f'{55976}_{WINDOW_SIZE}_RF_RETURNS'], label=\"Returns\")\n",
    "plt.plot(stock_RF.index, stock_RF[f\"{55976}_{WINDOW_SIZE}_RF_PRED\"], label=\"Prection\")\n",
    "plt.legend(loc=\"upper left\")\n",
    "plt.xticks(rotation=45)\n",
    "plt.show()"
   ]
  },
  {
   "cell_type": "code",
   "execution_count": 74,
   "metadata": {},
   "outputs": [
    {
     "data": {
      "text/plain": [
       "<AxesSubplot:>"
      ]
     },
     "execution_count": 74,
     "metadata": {},
     "output_type": "execute_result"
    },
    {
     "data": {
      "image/png": "[encoded data removed]",
      "text/plain": [
       "<Figure size 432x288 with 1 Axes>"
      ]
     },
     "metadata": {},
     "output_type": "display_data"
    }
   ],
   "source": [
    "returns[10145].cumsum().plot()"
   ]
  },
  {
   "cell_type": "code",
   "execution_count": 85,
   "metadata": {},
   "outputs": [],
   "source": [
    "from sklearn.metrics import confusion_matrix"
   ]
  },
  {
   "cell_type": "code",
   "execution_count": 98,
   "metadata": {},
   "outputs": [
    {
     "data": {
      "text/plain": [
       "array([[  0, 148,  14],\n",
       "       [  0, 181,   6],\n",
       "       [  0, 198,  25]])"
      ]
     },
     "execution_count": 98,
     "metadata": {},
     "output_type": "execute_result"
    }
   ],
   "source": [
    "confusion_matrix(stock_RF['55976_5_RF_RETURNS'], stock_RF['55976_5_RF_PRED'])"
   ]
  },
  {
   "cell_type": "code",
   "execution_count": null,
   "metadata": {},
   "outputs": [],
   "source": [
    "stock_RF[f\"{10145}_{WINDOW_SIZE}_RF_SQD_FORECAST_ERROR\"] = (stock_RF[f\"{55976}_{WINDOW_SIZE}_RF_PRED\"]-stock_RF[f'{55976}_{WINDOW_SIZE}_RF_RETURNS'])**2\n",
    "stock_RF[f\"{10145}_{WINDOW_SIZE}_RF_RMSE\"] = stock_RF[f\"{55976}_{WINDOW_SIZE}_RF_SQD_FORECAST_ERROR\"].rolling(WINDOW_SIZE).mean()**0.5"
   ]
  },
  {
   "cell_type": "code",
   "execution_count": null,
   "metadata": {},
   "outputs": [],
   "source": [
    "stock_RF[f\"{55976}_{WINDOW_SIZE}_RF_RMSE\"].plot()"
   ]
  },
  {
   "cell_type": "code",
   "execution_count": 12,
   "metadata": {},
   "outputs": [
    {
     "data": {
      "text/html": [
       "<div>\n",
       "<style scoped>\n",
       "    .dataframe tbody tr th:only-of-type {\n",
       "        vertical-align: middle;\n",
       "    }\n",
       "\n",
       "    .dataframe tbody tr th {\n",
       "        vertical-align: top;\n",
       "    }\n",
       "\n",
       "    .dataframe thead th {\n",
       "        text-align: right;\n",
       "    }\n",
       "</style>\n",
       "<table border=\"1\" class=\"dataframe\">\n",
       "  <thead>\n",
       "    <tr style=\"text-align: right;\">\n",
       "      <th></th>\n",
       "      <th>PERMNO</th>\n",
       "      <th>TICKER</th>\n",
       "      <th>COMNAM</th>\n",
       "    </tr>\n",
       "  </thead>\n",
       "  <tbody>\n",
       "    <tr>\n",
       "      <th>1993-04-01</th>\n",
       "      <td>10145</td>\n",
       "      <td>ALD</td>\n",
       "      <td>ALLIED SIGNAL INC</td>\n",
       "    </tr>\n",
       "    <tr>\n",
       "      <th>1993-04-02</th>\n",
       "      <td>10145</td>\n",
       "      <td>ALD</td>\n",
       "      <td>ALLIED SIGNAL INC</td>\n",
       "    </tr>\n",
       "    <tr>\n",
       "      <th>1993-04-05</th>\n",
       "      <td>10145</td>\n",
       "      <td>ALD</td>\n",
       "      <td>ALLIED SIGNAL INC</td>\n",
       "    </tr>\n",
       "    <tr>\n",
       "      <th>1993-04-06</th>\n",
       "      <td>10145</td>\n",
       "      <td>ALD</td>\n",
       "      <td>ALLIED SIGNAL INC</td>\n",
       "    </tr>\n",
       "    <tr>\n",
       "      <th>1993-04-07</th>\n",
       "      <td>10145</td>\n",
       "      <td>ALD</td>\n",
       "      <td>ALLIED SIGNAL INC</td>\n",
       "    </tr>\n",
       "    <tr>\n",
       "      <th>...</th>\n",
       "      <td>...</td>\n",
       "      <td>...</td>\n",
       "      <td>...</td>\n",
       "    </tr>\n",
       "    <tr>\n",
       "      <th>2000-12-22</th>\n",
       "      <td>90916</td>\n",
       "      <td>BXG</td>\n",
       "      <td>BLUEGREEN CORP</td>\n",
       "    </tr>\n",
       "    <tr>\n",
       "      <th>2000-12-26</th>\n",
       "      <td>90916</td>\n",
       "      <td>BXG</td>\n",
       "      <td>BLUEGREEN CORP</td>\n",
       "    </tr>\n",
       "    <tr>\n",
       "      <th>2000-12-27</th>\n",
       "      <td>90916</td>\n",
       "      <td>BXG</td>\n",
       "      <td>BLUEGREEN CORP</td>\n",
       "    </tr>\n",
       "    <tr>\n",
       "      <th>2000-12-28</th>\n",
       "      <td>90916</td>\n",
       "      <td>BXG</td>\n",
       "      <td>BLUEGREEN CORP</td>\n",
       "    </tr>\n",
       "    <tr>\n",
       "      <th>2000-12-29</th>\n",
       "      <td>90916</td>\n",
       "      <td>BXG</td>\n",
       "      <td>BLUEGREEN CORP</td>\n",
       "    </tr>\n",
       "  </tbody>\n",
       "</table>\n",
       "<p>195800 rows × 3 columns</p>\n",
       "</div>"
      ],
      "text/plain": [
       "            PERMNO TICKER             COMNAM\n",
       "1993-04-01   10145    ALD  ALLIED SIGNAL INC\n",
       "1993-04-02   10145    ALD  ALLIED SIGNAL INC\n",
       "1993-04-05   10145    ALD  ALLIED SIGNAL INC\n",
       "1993-04-06   10145    ALD  ALLIED SIGNAL INC\n",
       "1993-04-07   10145    ALD  ALLIED SIGNAL INC\n",
       "...            ...    ...                ...\n",
       "2000-12-22   90916    BXG     BLUEGREEN CORP\n",
       "2000-12-26   90916    BXG     BLUEGREEN CORP\n",
       "2000-12-27   90916    BXG     BLUEGREEN CORP\n",
       "2000-12-28   90916    BXG     BLUEGREEN CORP\n",
       "2000-12-29   90916    BXG     BLUEGREEN CORP\n",
       "\n",
       "[195800 rows x 3 columns]"
      ]
     },
     "execution_count": 12,
     "metadata": {},
     "output_type": "execute_result"
    }
   ],
   "source": [
    "tickers"
   ]
  },
  {
   "cell_type": "code",
   "execution_count": null,
   "metadata": {},
   "outputs": [],
   "source": []
  }
 ],
 "metadata": {
  "kernelspec": {
   "display_name": "Python 3",
   "language": "python",
   "name": "python3"
  },
  "language_info": {
   "codemirror_mode": {
    "name": "ipython",
    "version": 3
   },
   "file_extension": ".py",
   "mimetype": "text/x-python",
   "name": "python",
   "nbconvert_exporter": "python",
   "pygments_lexer": "ipython3",
   "version": "3.8.3-final"
  }
 },
 "nbformat": 4,
 "nbformat_minor": 4
}